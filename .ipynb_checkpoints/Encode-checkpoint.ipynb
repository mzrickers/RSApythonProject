{
 "cells": [
  {
   "cell_type": "code",
   "execution_count": 2,
   "metadata": {},
   "outputs": [
    {
     "name": "stdout",
     "output_type": "stream",
     "text": [
      "[122, 1346, 546, 1446]\n"
     ]
    }
   ],
   "source": [
    "def Convert_Text(_string):\n",
    "    \"\"\"\n",
    "    Define this function such that it takes in a simple \n",
    "    string such as \"hello\" and outputs the corresponding\n",
    "    list of integers (ascii) for each letter in the word hello.\n",
    "    For example:\n",
    "    _string = hello\n",
    "    integer_list = [104, 101, 108, 108, 111]\n",
    "    \"\"\"\n",
    "    integer_list = [] # initializes an empty list\n",
    "    for i in _string: # iterates through the text string\n",
    "        num = ord(i) # converts each character in the string to its corresponding ascii number\n",
    "        integer_list.append(num) # appends the number of the character to the list \n",
    "    return integer_list # returns the list of the ascii numbers\n",
    "\n",
    "def Encode(p, q, e, message):\n",
    "    cipher_text = []\n",
    "    n = p * q\n",
    "    message_ints = Convert_Text(_string = message)\n",
    "    for _integer in message_ints:\n",
    "        cipher = _integer ** e % n\n",
    "        cipher_text.append(cipher)\n",
    "    return cipher_text\n",
    "\n",
    "test = Encode(37, 41, 7, \"zach\")\n",
    "print(test)"
   ]
  },
  {
   "cell_type": "code",
   "execution_count": 23,
   "metadata": {},
   "outputs": [
    {
     "name": "stdout",
     "output_type": "stream",
     "text": [
      "zach\n"
     ]
    }
   ],
   "source": [
    "def Decode(p, q, d, cipher_text):\n",
    "    message_text = []\n",
    "    n = p * q\n",
    "    for _cipher in cipher_text:\n",
    "        message_int = (_cipher ** d) % n\n",
    "        message_text.append(message_int)\n",
    "    message = Convert_Num(message_text)\n",
    "    return message\n",
    "\n",
    "test_2 = Decode(37, 41, 823, [122, 1346, 546, 1446])\n",
    "print(test_2)"
   ]
  },
  {
   "cell_type": "code",
   "execution_count": 16,
   "metadata": {},
   "outputs": [
    {
     "name": "stdout",
     "output_type": "stream",
     "text": [
      "zach\n"
     ]
    }
   ],
   "source": [
    "def Convert_Num(_list):\n",
    "    \"\"\"\n",
    "    Do the opposite of what you did in the Convert_Text\n",
    "    function defined above.\n",
    "    \n",
    "    Define this function such that it takes in a simple \n",
    "    string such as \"hello\" and outputs the corresponding\n",
    "    list of integers for each letter in the word hello.\n",
    "    For example:\n",
    "    _list = [104, 101, 108, 108, 111]\n",
    "    _string = hello\n",
    "    \"\"\"\n",
    "    _string = ''\n",
    "    for i in _list:\n",
    "        _string += chr(i)\n",
    "    return _string\n",
    "\n",
    "test_3 = Convert_Num([122, 97, 99, 104])\n",
    "print(test_3)\n",
    "    "
   ]
  },
  {
   "cell_type": "code",
   "execution_count": 7,
   "metadata": {},
   "outputs": [
    {
     "data": {
      "text/plain": [
       "122"
      ]
     },
     "execution_count": 7,
     "metadata": {},
     "output_type": "execute_result"
    }
   ],
   "source": [
    "122**7 % 1517"
   ]
  },
  {
   "cell_type": "code",
   "execution_count": 8,
   "metadata": {},
   "outputs": [
    {
     "data": {
      "text/plain": [
       "854"
      ]
     },
     "execution_count": 8,
     "metadata": {},
     "output_type": "execute_result"
    }
   ],
   "source": [
    "122*7"
   ]
  },
  {
   "cell_type": "code",
   "execution_count": 9,
   "metadata": {},
   "outputs": [
    {
     "data": {
      "text/plain": [
       "854"
      ]
     },
     "execution_count": 9,
     "metadata": {},
     "output_type": "execute_result"
    }
   ],
   "source": [
    "854 % 1517"
   ]
  },
  {
   "cell_type": "code",
   "execution_count": 12,
   "metadata": {},
   "outputs": [
    {
     "data": {
      "text/plain": [
       "704"
      ]
     },
     "execution_count": 12,
     "metadata": {},
     "output_type": "execute_result"
    }
   ],
   "source": [
    "981**937 % 2537"
   ]
  },
  {
   "cell_type": "code",
   "execution_count": 13,
   "metadata": {},
   "outputs": [
    {
     "data": {
      "text/plain": [
       "1115"
      ]
     },
     "execution_count": 13,
     "metadata": {},
     "output_type": "execute_result"
    }
   ],
   "source": [
    "461**937%2537"
   ]
  },
  {
   "cell_type": "code",
   "execution_count": 14,
   "metadata": {},
   "outputs": [
    {
     "data": {
      "text/plain": [
       "823"
      ]
     },
     "execution_count": 14,
     "metadata": {},
     "output_type": "execute_result"
    }
   ],
   "source": [
    "1440 - 617"
   ]
  },
  {
   "cell_type": "code",
   "execution_count": 20,
   "metadata": {},
   "outputs": [
    {
     "name": "stdout",
     "output_type": "stream",
     "text": [
      "823\n"
     ]
    }
   ],
   "source": [
    "def Ex_Euclidean_Alg(e, n): # takes two integers a < b\n",
    "    s1 = 1\n",
    "    s2 = 0\n",
    "    t1 = 0\n",
    "    t2 = 1\n",
    "    while n != 0:\n",
    "        q = e // n\n",
    "        x = e % n\n",
    "        e = n\n",
    "        n = x\n",
    "        s = s1 - q * s2\n",
    "        t = t1 - q * t2\n",
    "        s1 = s2\n",
    "        t1 = t2\n",
    "        s2 = s\n",
    "        t2 = t\n",
    "    return e, s1, t1\n",
    "\n",
    "\n",
    "\n",
    "def Find_Private_Key_d(e, p, q):\n",
    "    n = (p - 1) * (q - 1)\n",
    "    e, s1, t1 = Ex_Euclidean_Alg(e, n)\n",
    "    if s1 < 0:\n",
    "        d = s1 + n\n",
    "        return d\n",
    "    else:\n",
    "        d = s1\n",
    "        return d\n",
    "    \n",
    "test_key_d = Find_Private_Key_d(7, 37, 41)\n",
    "print(test_key_d)"
   ]
  },
  {
   "cell_type": "code",
   "execution_count": 22,
   "metadata": {},
   "outputs": [
    {
     "name": "stdout",
     "output_type": "stream",
     "text": [
      "[122, 97, 99, 104]\n"
     ]
    }
   ],
   "source": [
    "def Decode(p, q, d, cipher_text):\n",
    "    message_text = []\n",
    "    n = p * q\n",
    "    for _cipher in cipher_text:\n",
    "        message = (_cipher ** d) % n\n",
    "        message_text.append(message)\n",
    "    message = Convert_Num(message_text)\n",
    "\n",
    "test_2 = Decode(37, 41, 823, [122, 1346, 546, 1446])\n",
    "print(test_2)"
   ]
  },
  {
   "cell_type": "code",
   "execution_count": null,
   "metadata": {},
   "outputs": [],
   "source": [
    "if __name__ == '__main':\n",
    "    \"\"\"\n",
    "    Implement a main function such that:\n",
    "    \n",
    "    1. Asks the user to Get Keys, Encode or Decode.\n",
    "    2. If Getting keys, it will need to ask for p and q. \n",
    "    3. If Encoding, it will need the message and public keys.\n",
    "    3. If Decoding it will need the coded message, and public and private keys.\n",
    "    \n",
    "    You may implement this differently if you want, add more functions, \n",
    "    include a list of useful primes etc... \n",
    "    Just implement in a way that makes sense to you.\n",
    "    And explain why.\n",
    "    \n",
    "    "
   ]
  },
  {
   "cell_type": "code",
   "execution_count": null,
   "metadata": {},
   "outputs": [],
   "source": [
    "    message_text = []\n",
    "    n = p * q\n",
    "    d = Convert_Binary_String(d)\n",
    "    for _cipher in cipher_text:\n",
    "        message_int = FME(_cipher, d, n)  # need to use FME here\n",
    "        message_text.append(message_int)\n",
    "    message = Convert_Num(message_text)\n",
    "    return message\n",
    "\n",
    "test_2 = Decode(37, 41, 823, [122, 1346, 546, 1446])\n",
    "print(test_2)\n"
   ]
  },
  {
   "cell_type": "code",
   "execution_count": null,
   "metadata": {},
   "outputs": [],
   "source": [
    "def Decode(p, q, d, cipher_text):\n",
    "    \"\"\"\n",
    "    Here, the cipher_text will be a list of integers.\n",
    "    First, you will decrypt each of those integers using \n",
    "    n and d.\n",
    "    Later, you will need to use the function that converts the integers to a string \n",
    "    defined in second toolset\n",
    "    to recover the original message as a string. \n",
    "    \n",
    "    \"\"\"\n",
    "\n",
    "    message_text = []\n",
    "    n = p * q\n",
    "    for _cipher in cipher_text:\n",
    "        message_int = (_cipher ** d) % n  # need to use FME here\n",
    "        message_text.append(message_int)\n",
    "    message = Convert_Num(message_text)\n",
    "    return message\n",
    "\n",
    "test_2 = Decode(37, 41, 823, [122, 1346, 546, 1446])\n",
    "print(test_2)"
   ]
  },
  {
   "cell_type": "code",
   "execution_count": 26,
   "metadata": {},
   "outputs": [
    {
     "name": "stdin",
     "output_type": "stream",
     "text": [
      "input a new p 37\n",
      "input a new q 43\n"
     ]
    },
    {
     "name": "stdout",
     "output_type": "stream",
     "text": [
      "37 is a prime\n",
      "43 is a prime number\n",
      "(37, 43)\n"
     ]
    }
   ],
   "source": [
    "# import math\n",
    "\n",
    "# def finding_primes():\n",
    "#     p = input(\"input a new p\")\n",
    "#     p = int(p)\n",
    "#     q = input(\"input a new q\")\n",
    "#     q = int(q)\n",
    "#     prime_number_p = False\n",
    "#     prime_number_q = False\n",
    "#     while prime_number_p == False:\n",
    "#         for i in range(2, round(math.sqrt(p))):\n",
    "#             if (p % i) == 0:\n",
    "#                 print(p, \"is not a prime number: \")\n",
    "#                 finding_primes(p, q)\n",
    "#             else:\n",
    "#                 print(p, \"is a prime\")\n",
    "#                 prime_number_p = True\n",
    "#                 break\n",
    "#     while prime_number_q == False: # seperate these\n",
    "#         for i in range(2, round(math.sqrt(q))):\n",
    "#             if (q % i) == 0:\n",
    "#                 print(q, \"is not a prime number: \")\n",
    "#                 finding_primes(p, q)\n",
    "#             else:\n",
    "#                 print(q, \"is a prime number\")\n",
    "#                 prime_number_q = True\n",
    "#                 break\n",
    "#     return p, q\n",
    "\n",
    "\n",
    "test_p = finding_primes()\n",
    "print(test_p)\n",
    "\n",
    "def main():\n",
    "    \n",
    "    \n",
    "    get_keys_prompt = input(\"Would you like to get keys?: \")\n",
    "    if \"y\" in get_keys_prompt:\n",
    "        p, q = finding_primes()\n",
    "        n = p * q\n",
    "        print(n)\n",
    "        e = Find_Public_Key_e(p, q)\n",
    "        d = Find_Private_Key_d(p, q, e)\n",
    "    encode_prompt = input(\"Would you like to Encode?: \")\n",
    "    if \"y\" in encode_prompt:\n",
    "        n = int(input(\"Please input an n: \"))\n",
    "        e = int(input(\"Please input a public key e: \"))\n",
    "        message = classmate_list\n",
    "        cipher_text = Encode(n, e, message)\n",
    "    decode_prompt = input(\"Would you like to Decode: \")\n",
    "    if \"y\" in encode_prompt:\n",
    "        n = int(input(\"Please input an n: \"))\n",
    "        e = int(input(\"Please enter a private key d: \"))\n",
    "        cipher_text = classmate_cipher\n",
    "        message = Decode(n, d, cipher_text)\n",
    "    \n",
    "    \n",
    "\n",
    "if __name__ == '__main':\n",
    "    \"\"\"\n",
    "    Implement a main function such that:\n",
    "    \n",
    "    1. Asks the user to Get Keys, Encode or Decode.\n",
    "    2. If Getting keys, it will need to ask for p and q. \n",
    "    3. If Encoding, it will need the message and public keys.\n",
    "    3. If Decoding it will need the coded message, and public and private keys.\n",
    "    \n",
    "    You may implement this differently if you want, add more functions, \n",
    "    include a list of useful primes etc... \n",
    "    Just implement in a way that makes sense to you.\n",
    "    And explain why.\n",
    "    \"\"\"\n",
    "    main()\n",
    "    "
   ]
  },
  {
   "cell_type": "code",
   "execution_count": 24,
   "metadata": {},
   "outputs": [
    {
     "data": {
      "text/plain": [
       "1517"
      ]
     },
     "execution_count": 24,
     "metadata": {},
     "output_type": "execute_result"
    }
   ],
   "source": [
    "37 *41\n"
   ]
  },
  {
   "cell_type": "code",
   "execution_count": null,
   "metadata": {},
   "outputs": [],
   "source": []
  }
 ],
 "metadata": {
  "kernelspec": {
   "display_name": "Python 3",
   "language": "python",
   "name": "python3"
  },
  "language_info": {
   "codemirror_mode": {
    "name": "ipython",
    "version": 3
   },
   "file_extension": ".py",
   "mimetype": "text/x-python",
   "name": "python",
   "nbconvert_exporter": "python",
   "pygments_lexer": "ipython3",
   "version": "3.7.0"
  }
 },
 "nbformat": 4,
 "nbformat_minor": 2
}
